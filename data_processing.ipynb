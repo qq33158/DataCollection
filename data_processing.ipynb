{
 "cells": [
  {
   "cell_type": "code",
   "execution_count": null,
   "metadata": {},
   "outputs": [],
   "source": [
    "import pandas as pd\n",
    "import numpy as np\n",
    "import time\n",
    "import json\n",
    "from glob import glob\n",
    "from dateutil.parser import parse"
   ]
  },
  {
   "cell_type": "markdown",
   "metadata": {},
   "source": [
    "# 合併多個csv檔 - glob"
   ]
  },
  {
   "cell_type": "code",
   "execution_count": null,
   "metadata": {},
   "outputs": [],
   "source": [
    "files = glob('./file*')\n",
    "print(files)"
   ]
  },
  {
   "cell_type": "code",
   "execution_count": null,
   "metadata": {},
   "outputs": [],
   "source": [
    "df = pd.concat((pd.read_csv(file, dtype={'mls': int}) for file in files), axis='rows', ignore_index=True)"
   ]
  },
  {
   "cell_type": "code",
   "execution_count": null,
   "metadata": {},
   "outputs": [],
   "source": [
    "df.drop_duplicates(subset =\"address\",keep = False, inplace = True)"
   ]
  },
  {
   "cell_type": "code",
   "execution_count": null,
   "metadata": {},
   "outputs": [],
   "source": [
    "def OutputCSV():      \n",
    "    Result = \"filename_%s.csv\" % (str(time.strftime(\"%Y-%m-%d\")))\n",
    "    df_SAMPLE = pd.DataFrame.from_dict(df)\n",
    "    df_SAMPLE.to_csv(Result, index=False) \n",
    "    print('Finish')"
   ]
  },
  {
   "cell_type": "code",
   "execution_count": null,
   "metadata": {},
   "outputs": [],
   "source": [
    "OutputCSV()"
   ]
  },
  {
   "cell_type": "markdown",
   "metadata": {},
   "source": [
    "# 合併DataFrame - merge"
   ]
  },
  {
   "cell_type": "code",
   "execution_count": null,
   "metadata": {},
   "outputs": [],
   "source": [
    "df = pd.read_csv('inf_list1.csv')"
   ]
  },
  {
   "cell_type": "code",
   "execution_count": null,
   "metadata": {},
   "outputs": [],
   "source": [
    "df1 = pd.read_csv('years_price_list.csv')"
   ]
  },
  {
   "cell_type": "code",
   "execution_count": null,
   "metadata": {},
   "outputs": [],
   "source": [
    "df2 = df.merge(df1)"
   ]
  },
  {
   "cell_type": "code",
   "execution_count": null,
   "metadata": {
    "scrolled": true
   },
   "outputs": [],
   "source": [
    "df2"
   ]
  },
  {
   "cell_type": "code",
   "execution_count": null,
   "metadata": {},
   "outputs": [],
   "source": [
    "def OutputCSV1():      \n",
    "    Result = \"inf_list%s.csv\" % (str(time.strftime(\"%Y-%m-%d\")))\n",
    "    df_SAMPLE = pd.DataFrame.from_dict(df2)\n",
    "    df_SAMPLE.to_csv(Result, index=False) \n",
    "    print('Finish')"
   ]
  },
  {
   "cell_type": "code",
   "execution_count": null,
   "metadata": {},
   "outputs": [],
   "source": [
    "OutputCSV1()"
   ]
  },
  {
   "cell_type": "markdown",
   "metadata": {},
   "source": [
    "# 年與房價資料"
   ]
  },
  {
   "cell_type": "code",
   "execution_count": null,
   "metadata": {},
   "outputs": [],
   "source": [
    "df = pd.read_csv('exchange_rate.csv')"
   ]
  },
  {
   "cell_type": "code",
   "execution_count": null,
   "metadata": {},
   "outputs": [],
   "source": [
    "cols = ['zipcode','sqft','soldout','houseprice']"
   ]
  },
  {
   "cell_type": "code",
   "execution_count": null,
   "metadata": {},
   "outputs": [],
   "source": [
    "df1 = df[cols]"
   ]
  },
  {
   "cell_type": "code",
   "execution_count": null,
   "metadata": {
    "scrolled": true
   },
   "outputs": [],
   "source": [
    "df1"
   ]
  },
  {
   "cell_type": "code",
   "execution_count": null,
   "metadata": {},
   "outputs": [],
   "source": [
    "for i in range(len(df1)):\n",
    "    df1['soldout'][i] = parse(df1['soldout'][i]).year"
   ]
  },
  {
   "cell_type": "code",
   "execution_count": null,
   "metadata": {},
   "outputs": [],
   "source": [
    "df1"
   ]
  },
  {
   "cell_type": "code",
   "execution_count": null,
   "metadata": {},
   "outputs": [],
   "source": [
    "years_price_list = []\n",
    "years = [2017,2018,2019,2020] # ,2019,2018,2017\n",
    "counts = 0\n",
    "for i in [98010, 98029, 98075 ,98092,98106]:\n",
    "    years_price = [i]\n",
    "    for j in years:\n",
    "        if j == 2017:\n",
    "            df2 = df1[(df1['zipcode']==i)&(df1['soldout']>(j-19))&(df1['soldout']<(j+2))] \n",
    "        else:\n",
    "            df2 = df1[(df1['zipcode']==i)&(df1['soldout']>(j))&(df1['soldout']<(j+2))] \n",
    "        df3 = df2.groupby('zipcode').apply(sum)\n",
    "        years_price += [round(df3.iloc[0,3]/df3.iloc[0,1],2)]\n",
    "    years_price_list.append(years_price)\n",
    "    years_price = []\n",
    "    counts += 1"
   ]
  },
  {
   "cell_type": "code",
   "execution_count": null,
   "metadata": {},
   "outputs": [],
   "source": [
    "df3"
   ]
  },
  {
   "cell_type": "code",
   "execution_count": null,
   "metadata": {},
   "outputs": [],
   "source": [
    "years_price_list"
   ]
  },
  {
   "cell_type": "code",
   "execution_count": null,
   "metadata": {},
   "outputs": [],
   "source": [
    "def OutputCSV2():\n",
    "    cols = ['zipcode','before2018','2019y','2020y','2021y']\n",
    "    file_name = \"years_price_list.csv\"\n",
    "    pd.DataFrame(years_price_list, columns = cols).to_csv(file_name, index = False, encoding = \"UTF-8\")"
   ]
  },
  {
   "cell_type": "code",
   "execution_count": null,
   "metadata": {},
   "outputs": [],
   "source": [
    "OutputCSV2()"
   ]
  },
  {
   "cell_type": "markdown",
   "metadata": {},
   "source": [
    "# 測試轉JSON"
   ]
  },
  {
   "cell_type": "code",
   "execution_count": null,
   "metadata": {},
   "outputs": [],
   "source": [
    "df = pd.read_csv('exchange_rate.csv')"
   ]
  },
  {
   "cell_type": "code",
   "execution_count": null,
   "metadata": {},
   "outputs": [],
   "source": [
    "cols = ['zipcode','walkscore','transitscore','grade1_5','grade6_8','grade9_12']"
   ]
  },
  {
   "cell_type": "code",
   "execution_count": null,
   "metadata": {},
   "outputs": [],
   "source": [
    "df1 = df[cols]"
   ]
  },
  {
   "cell_type": "code",
   "execution_count": null,
   "metadata": {},
   "outputs": [],
   "source": [
    "df1 = df1.head(5)"
   ]
  },
  {
   "cell_type": "code",
   "execution_count": null,
   "metadata": {},
   "outputs": [],
   "source": [
    "df1"
   ]
  },
  {
   "cell_type": "code",
   "execution_count": null,
   "metadata": {
    "scrolled": true
   },
   "outputs": [],
   "source": [
    "df1.to_json(orient=\"index\",force_ascii=False)"
   ]
  },
  {
   "cell_type": "code",
   "execution_count": null,
   "metadata": {
    "scrolled": true
   },
   "outputs": [],
   "source": [
    "type(df1)"
   ]
  },
  {
   "cell_type": "code",
   "execution_count": null,
   "metadata": {
    "scrolled": true
   },
   "outputs": [],
   "source": [
    "pd.DataFrame(df1).to_json('json_test.json')"
   ]
  },
  {
   "cell_type": "markdown",
   "metadata": {},
   "source": [
    "### json測試"
   ]
  },
  {
   "cell_type": "code",
   "execution_count": null,
   "metadata": {},
   "outputs": [],
   "source": [
    "df2 = eval(df1)"
   ]
  },
  {
   "cell_type": "code",
   "execution_count": null,
   "metadata": {},
   "outputs": [],
   "source": [
    "type(df2)"
   ]
  },
  {
   "cell_type": "code",
   "execution_count": null,
   "metadata": {},
   "outputs": [],
   "source": [
    "df2 = str(df1)"
   ]
  },
  {
   "cell_type": "code",
   "execution_count": null,
   "metadata": {},
   "outputs": [],
   "source": [
    "df2"
   ]
  },
  {
   "cell_type": "code",
   "execution_count": null,
   "metadata": {},
   "outputs": [],
   "source": [
    "for i in range(10):\n",
    "    df2 = df2.replace(f'\"{i}\":','') \n",
    "                    # (f'\"{i}\":','') #(f\"'{i}':\",'')"
   ]
  },
  {
   "cell_type": "code",
   "execution_count": null,
   "metadata": {},
   "outputs": [],
   "source": [
    "df2"
   ]
  },
  {
   "cell_type": "code",
   "execution_count": null,
   "metadata": {},
   "outputs": [],
   "source": [
    "df2 = df2.replace('{{','[{').replace('}}','}]')"
   ]
  },
  {
   "cell_type": "code",
   "execution_count": null,
   "metadata": {},
   "outputs": [],
   "source": [
    "df2"
   ]
  },
  {
   "cell_type": "code",
   "execution_count": null,
   "metadata": {},
   "outputs": [],
   "source": [
    "df2 = df2.replace('\"',\"'\")"
   ]
  },
  {
   "cell_type": "code",
   "execution_count": null,
   "metadata": {},
   "outputs": [],
   "source": [
    "df2"
   ]
  },
  {
   "cell_type": "code",
   "execution_count": null,
   "metadata": {},
   "outputs": [],
   "source": [
    "import json\n",
    "with open('data.json', 'w') as f:\n",
    "  json.dump(df1, f, ensure_ascii=False)"
   ]
  },
  {
   "cell_type": "markdown",
   "metadata": {},
   "source": [
    "# 建立比較資料"
   ]
  },
  {
   "cell_type": "code",
   "execution_count": null,
   "metadata": {},
   "outputs": [],
   "source": [
    "df = pd.read_csv('exchange_rate.csv')"
   ]
  },
  {
   "cell_type": "code",
   "execution_count": null,
   "metadata": {},
   "outputs": [],
   "source": [
    "df.shape"
   ]
  },
  {
   "cell_type": "code",
   "execution_count": null,
   "metadata": {},
   "outputs": [],
   "source": [
    "cols = ['zipcode','walkscore','transitscore','grade1_5','grade6_8','grade9_12',\n",
    "          'WhiteRatio','AfricanRatio','LatinoRatio','AsianRatio','IndianRatio','OthersRatio']"
   ]
  },
  {
   "cell_type": "code",
   "execution_count": null,
   "metadata": {},
   "outputs": [],
   "source": [
    "df1 = df[cols]"
   ]
  },
  {
   "cell_type": "code",
   "execution_count": null,
   "metadata": {},
   "outputs": [],
   "source": [
    "df1"
   ]
  },
  {
   "cell_type": "code",
   "execution_count": null,
   "metadata": {},
   "outputs": [],
   "source": [
    "dfzipcode = df['zipcode'].drop_duplicates()"
   ]
  },
  {
   "cell_type": "code",
   "execution_count": null,
   "metadata": {},
   "outputs": [],
   "source": [
    "zipcodelist = []\n",
    "for j in range(len(dfzipcode)):\n",
    "    zipcodelist += [dfzipcode.iloc[j]]\n",
    "zipcodelist = sorted(zipcodelist)"
   ]
  },
  {
   "cell_type": "code",
   "execution_count": null,
   "metadata": {},
   "outputs": [],
   "source": [
    "zipcodelist"
   ]
  },
  {
   "cell_type": "code",
   "execution_count": null,
   "metadata": {},
   "outputs": [],
   "source": [
    "inf_list = []\n",
    "counts = 0\n",
    "df2 = df1.groupby('zipcode').apply(sum)\n",
    "len1 = len(df2.iloc[0])\n",
    "for i in zipcodelist:\n",
    "    df3 = df2.iloc[counts]/len(df1[(df1['zipcode']==i)])\n",
    "    inf_list.append([int(df3[len1-12]),round(df3[len1-11],2),round(df3[len1-10],2),round(df3[len1-9],2),round(df3[len1-8],2),round(df3[len1-7],2),round(df3[len1-6],2),\n",
    "                     round(df3[len1-5],2),round(df3[len1-4],2),round(df3[len1-3],2),round(df3[len1-2],2),round(df3[len1-1],2)])\n",
    "    counts+=1"
   ]
  },
  {
   "cell_type": "code",
   "execution_count": null,
   "metadata": {},
   "outputs": [],
   "source": [
    "inf_list1 = []\n",
    "for i in range(len(inf_list)):\n",
    "    if inf_list[i][0] in [98010, 98029, 98092, 98075 ,98106]:\n",
    "        inf_list1.append(inf_list[i])\n",
    "print(inf_list1)"
   ]
  },
  {
   "cell_type": "code",
   "execution_count": null,
   "metadata": {},
   "outputs": [],
   "source": [
    "def OutputCSV3():\n",
    "    file_name = \"inf_list1.csv\"\n",
    "    pd.DataFrame(inf_list1, columns = cols).to_csv(file_name, index = False, encoding = \"UTF-8\")"
   ]
  },
  {
   "cell_type": "code",
   "execution_count": null,
   "metadata": {},
   "outputs": [],
   "source": [
    "OutputCSV3()"
   ]
  },
  {
   "cell_type": "markdown",
   "metadata": {},
   "source": [
    "# 建立預測資料"
   ]
  },
  {
   "cell_type": "code",
   "execution_count": null,
   "metadata": {},
   "outputs": [],
   "source": [
    "df = pd.read_csv('data_with_predict_price.csv')"
   ]
  },
  {
   "cell_type": "code",
   "execution_count": null,
   "metadata": {
    "scrolled": true
   },
   "outputs": [],
   "source": [
    "df.shape"
   ]
  },
  {
   "cell_type": "code",
   "execution_count": null,
   "metadata": {},
   "outputs": [],
   "source": [
    "df['sqft'] = pd.to_numeric(df['sqft']).astype('int64')"
   ]
  },
  {
   "cell_type": "code",
   "execution_count": null,
   "metadata": {},
   "outputs": [],
   "source": [
    "cols = ['zipcode','bedroom','bathroom','sqft','houseprice','predictPrice']\n",
    "zipcode = [98010, 98029, 98092, 98075 ,98106]\n",
    "bedroom = [2,3,4]\n",
    "bathroom = [2,3,4]\n",
    "sqft = [1000,2000,3000,4000]"
   ]
  },
  {
   "cell_type": "code",
   "execution_count": null,
   "metadata": {},
   "outputs": [],
   "source": [
    "df1 = df[cols]"
   ]
  },
  {
   "cell_type": "code",
   "execution_count": null,
   "metadata": {
    "scrolled": true
   },
   "outputs": [],
   "source": [
    "df1[(df1['zipcode']==98029)&(df1['houseprice']>1000000)&(df1['houseprice']<1800000)]"
   ]
  },
  {
   "cell_type": "code",
   "execution_count": null,
   "metadata": {},
   "outputs": [],
   "source": [
    "pre_list=[]\n",
    "for i in zipcode:\n",
    "    for j in bedroom:\n",
    "        for k in bathroom:\n",
    "            for l in sqft:\n",
    "                df2 = df1[(df1['zipcode']==i)&(df1['bedroom']==j)&(df1['bathroom']>=k)&(df1['bathroom']<k+1)&(df1['sqft']>=l)&(df1['sqft']<l+1000)]\n",
    "                if df2.empty:\n",
    "                    print(i,j,k,l)\n",
    "                else:\n",
    "                    l1 = str(l)+'~'+str(l+1000)\n",
    "                    df3 = df2.groupby('zipcode').apply(sum)\n",
    "                    pre_list.append([i,j,k,l1,round(df3.iloc[0,4]/df3.iloc[0,3],1),round(df3.iloc[0,5]/df3.iloc[0,3],1)]) #1000 取代 round(df3.iloc[0,5]/df3.iloc[0,3],1)"
   ]
  },
  {
   "cell_type": "code",
   "execution_count": null,
   "metadata": {
    "scrolled": true
   },
   "outputs": [],
   "source": [
    "pre_list"
   ]
  },
  {
   "cell_type": "code",
   "execution_count": null,
   "metadata": {},
   "outputs": [],
   "source": [
    "for list1 in pre_list:\n",
    "    if ((list1[4]-list1[5]) < 200) &((list1[4]-list1[5]) > -200):\n",
    "        print(list1)"
   ]
  },
  {
   "cell_type": "code",
   "execution_count": null,
   "metadata": {},
   "outputs": [],
   "source": [
    "def OutputCSV4():\n",
    "    cols = ['zipcode','bedroom','bathroom','sqft','Predict_price_sqft','Actual_price_sqft']\n",
    "    file_name = \"pre_price.csv\"\n",
    "    pd.DataFrame(pre_list, columns = cols).to_csv(file_name, index = False, encoding = \"UTF-8\")"
   ]
  },
  {
   "cell_type": "code",
   "execution_count": null,
   "metadata": {},
   "outputs": [],
   "source": [
    "OutputCSV4()"
   ]
  },
  {
   "cell_type": "markdown",
   "metadata": {},
   "source": [
    "# 建立熱區資料csv"
   ]
  },
  {
   "cell_type": "code",
   "execution_count": null,
   "metadata": {},
   "outputs": [],
   "source": [
    "df = pd.read_csv('data_with_predict_price.csv')"
   ]
  },
  {
   "cell_type": "code",
   "execution_count": null,
   "metadata": {
    "scrolled": true
   },
   "outputs": [],
   "source": [
    "df.shape"
   ]
  },
  {
   "cell_type": "code",
   "execution_count": null,
   "metadata": {},
   "outputs": [],
   "source": [
    "dfzipcode = df['zipcode']"
   ]
  },
  {
   "cell_type": "code",
   "execution_count": null,
   "metadata": {},
   "outputs": [],
   "source": [
    "dfzipcode = dfzipcode.drop_duplicates()"
   ]
  },
  {
   "cell_type": "code",
   "execution_count": null,
   "metadata": {},
   "outputs": [],
   "source": [
    "dfzipcode"
   ]
  },
  {
   "cell_type": "code",
   "execution_count": null,
   "metadata": {},
   "outputs": [],
   "source": [
    "zipcodelist = []\n",
    "for j in range(len(dfzipcode)):\n",
    "    zipcodelist += [dfzipcode.iloc[j]]"
   ]
  },
  {
   "cell_type": "code",
   "execution_count": null,
   "metadata": {},
   "outputs": [],
   "source": [
    "zipcodelist = sorted(zipcodelist)"
   ]
  },
  {
   "cell_type": "code",
   "execution_count": null,
   "metadata": {},
   "outputs": [],
   "source": [
    "zipcodelist"
   ]
  },
  {
   "cell_type": "code",
   "execution_count": null,
   "metadata": {},
   "outputs": [],
   "source": [
    "df2 = df[['zipcode','sqft','predictPrice']]"
   ]
  },
  {
   "cell_type": "code",
   "execution_count": null,
   "metadata": {},
   "outputs": [],
   "source": [
    "df2"
   ]
  },
  {
   "cell_type": "code",
   "execution_count": null,
   "metadata": {
    "scrolled": true
   },
   "outputs": [],
   "source": [
    "df2['sqft'] = pd.to_numeric(df2['sqft']).astype('int64')"
   ]
  },
  {
   "cell_type": "code",
   "execution_count": null,
   "metadata": {},
   "outputs": [],
   "source": [
    "df3 = df2.groupby('zipcode').apply(sum)"
   ]
  },
  {
   "cell_type": "code",
   "execution_count": null,
   "metadata": {},
   "outputs": [],
   "source": [
    "df3"
   ]
  },
  {
   "cell_type": "code",
   "execution_count": null,
   "metadata": {},
   "outputs": [],
   "source": [
    "hotprice = []\n",
    "\n",
    "for i in range(len(zipcodelist)):\n",
    "    df3.iloc[i,2]/df3.iloc[i,1]\n",
    "    hotprice.append([int(zipcodelist[i]),round(df3.iloc[i,2]/df3.iloc[i,1])])"
   ]
  },
  {
   "cell_type": "code",
   "execution_count": null,
   "metadata": {},
   "outputs": [],
   "source": [
    "hotprice"
   ]
  },
  {
   "cell_type": "code",
   "execution_count": null,
   "metadata": {
    "scrolled": true
   },
   "outputs": [],
   "source": [
    "hotprice_d = dict(hotprice)"
   ]
  },
  {
   "cell_type": "code",
   "execution_count": null,
   "metadata": {
    "scrolled": true
   },
   "outputs": [],
   "source": [
    "hotprice_d = str(hotprice_d)"
   ]
  },
  {
   "cell_type": "code",
   "execution_count": null,
   "metadata": {},
   "outputs": [],
   "source": [
    "for i in zipcodelist:\n",
    "    i = int(i)\n",
    "    hotprice_d = hotprice_d.replace(f'{i}',f'\"{i}\"')"
   ]
  },
  {
   "cell_type": "code",
   "execution_count": null,
   "metadata": {},
   "outputs": [],
   "source": [
    "hotprice_d"
   ]
  },
  {
   "cell_type": "code",
   "execution_count": null,
   "metadata": {},
   "outputs": [],
   "source": [
    "def OutputCSV5():\n",
    "    file_name = \"hotprice.csv\"\n",
    "    columns = ['zipcode','Actual_price_sqft']\n",
    "    pd.DataFrame(hotprice, columns = columns).to_csv(file_name, index = False, encoding = \"UTF-8\")"
   ]
  },
  {
   "cell_type": "code",
   "execution_count": null,
   "metadata": {},
   "outputs": [],
   "source": [
    "OutputCSV5()"
   ]
  },
  {
   "cell_type": "markdown",
   "metadata": {},
   "source": [
    "# 處理重複地址"
   ]
  },
  {
   "cell_type": "code",
   "execution_count": null,
   "metadata": {},
   "outputs": [],
   "source": [
    "df = pd.read_csv('filename.csv')"
   ]
  },
  {
   "cell_type": "code",
   "execution_count": null,
   "metadata": {
    "scrolled": true
   },
   "outputs": [],
   "source": [
    "df['address']"
   ]
  },
  {
   "cell_type": "code",
   "execution_count": null,
   "metadata": {},
   "outputs": [],
   "source": [
    "for i in range(len(df['address'])):\n",
    "    df['address'][i] = df['address'][i].replace(',-','-')"
   ]
  },
  {
   "cell_type": "code",
   "execution_count": null,
   "metadata": {},
   "outputs": [],
   "source": [
    "address_1 = []\n",
    "for i in range(len(df)):\n",
    "    address_1 += [df['address'][i]]\n",
    "#print(df1['html'][i][:-15][35:])\n",
    "print(address_1)"
   ]
  },
  {
   "cell_type": "code",
   "execution_count": null,
   "metadata": {
    "scrolled": true
   },
   "outputs": [],
   "source": [
    "df1 = pd.read_csv('filename.csv')"
   ]
  },
  {
   "cell_type": "code",
   "execution_count": null,
   "metadata": {},
   "outputs": [],
   "source": [
    "for i in range(len(df1)):\n",
    "    if df1['html'][i][:-15][35:] in address_1:\n",
    "        df1['html'][i] = 0\n",
    "    elif df1['html'][i][:-16][35:] in address_1:\n",
    "        df1['html'][i] = 0\n",
    "    elif df1['html'][i][:-17][35:] in address_1:\n",
    "        df1['html'][i] = 0\n",
    "    else :\n",
    "        print('none')"
   ]
  },
  {
   "cell_type": "code",
   "execution_count": null,
   "metadata": {},
   "outputs": [],
   "source": [
    "df2 = df1.drop_duplicates()"
   ]
  },
  {
   "cell_type": "code",
   "execution_count": null,
   "metadata": {},
   "outputs": [],
   "source": [
    "df2"
   ]
  },
  {
   "cell_type": "code",
   "execution_count": null,
   "metadata": {},
   "outputs": [],
   "source": [
    "def OutputCSV6():       \n",
    "    Result ='filename.csv'\n",
    "    df_SAMPLE = pd.DataFrame.from_dict(house)\n",
    "    df_SAMPLE.to_csv(df2, index=False)\n",
    "    print('Finish')"
   ]
  },
  {
   "cell_type": "code",
   "execution_count": null,
   "metadata": {},
   "outputs": [],
   "source": [
    "OutputCSV6()"
   ]
  },
  {
   "cell_type": "markdown",
   "metadata": {},
   "source": [
    "# 資料清洗"
   ]
  },
  {
   "cell_type": "code",
   "execution_count": null,
   "metadata": {
    "scrolled": true
   },
   "outputs": [],
   "source": [
    "import pandas as pd\n",
    "import numpy as np\n",
    "\n",
    "house = pd.read_csv('98112.csv')"
   ]
  },
  {
   "cell_type": "code",
   "execution_count": null,
   "metadata": {},
   "outputs": [],
   "source": [
    "house.shape"
   ]
  },
  {
   "cell_type": "code",
   "execution_count": null,
   "metadata": {},
   "outputs": [],
   "source": [
    "len_5 = len(house['school3'])\n",
    "for i in range(len_5):\n",
    "    if pd.isnull(house['school3'][i]) is True:\n",
    "        house['school3'][i] = 0\n",
    "#        house['school2'][i] = 5"
   ]
  },
  {
   "cell_type": "code",
   "execution_count": null,
   "metadata": {},
   "outputs": [],
   "source": [
    "house['school3'].isnull().any()"
   ]
  },
  {
   "cell_type": "code",
   "execution_count": null,
   "metadata": {},
   "outputs": [],
   "source": [
    "len_5 = len(house['school3'])\n",
    "count=0\n",
    "for i in range(len_5):\n",
    "    if house['school2'][i] == 1 and pd.isnull(house['school3'][i]) is True:\n",
    "        house['school3'][i] = house['school2'][i]\n",
    "        count+=1\n",
    "print(count)\n",
    "        #house['school3'][i] = house['school2'][i]\n",
    "#        house['school2'][i] = 5"
   ]
  },
  {
   "cell_type": "code",
   "execution_count": null,
   "metadata": {},
   "outputs": [],
   "source": [
    "len_5 = len(house['school3'])\n",
    "for i in range(len_5):\n",
    "    if house['school2'][i] == 6 and pd.isnull(house['school3'][i]) is True:\n",
    "        count+=1\n",
    "        house['school3'][i] = house['school2'][i]\n",
    "        house['school2'][i] = house['school1'][i]\n",
    "print(count)\n",
    "        #house['school3'][i] = house['school2'][i]\n",
    "#        house['school2'][i] = 5"
   ]
  },
  {
   "cell_type": "code",
   "execution_count": null,
   "metadata": {},
   "outputs": [],
   "source": [
    "house['school3'].isnull().any()"
   ]
  },
  {
   "cell_type": "code",
   "execution_count": null,
   "metadata": {},
   "outputs": [],
   "source": [
    "len(house['lot'])"
   ]
  },
  {
   "cell_type": "code",
   "execution_count": null,
   "metadata": {},
   "outputs": [],
   "source": [
    "# lot處理單位轉換acres to sqft\n",
    "len_1 = len(house['lot'])\n",
    "for i in range(len_1):\n",
    "    try:\n",
    "        if house['lot'][i][-1] == 's': \n",
    "            house['lot'][i] = int(house['lot'][i].replace(' Acres','').replace('.',''))*(435) # 要轉int忽略小數後455.60 ???\n",
    "        elif house['lot'][i][-1] == 't': \n",
    "            house['lot'][i] = int(house['lot'][i].replace(' sqft','').replace(',',''))\n",
    "        else:\n",
    "            house['lot'][i] = int(house['lot'][i])\n",
    "    except:\n",
    "        print(i,house['lot'][i])"
   ]
  },
  {
   "cell_type": "code",
   "execution_count": null,
   "metadata": {},
   "outputs": [],
   "source": [
    "# object轉換成int, 並將nan補0, coerce將為無法轉為int轉為nan\n",
    "house['lot'] = pd.to_numeric(house['lot'], errors='coerce').fillna('0').astype('int64')"
   ]
  },
  {
   "cell_type": "code",
   "execution_count": null,
   "metadata": {},
   "outputs": [],
   "source": [
    "# 確認空值, False\n",
    "house['lot'].isnull().any()"
   ]
  },
  {
   "cell_type": "code",
   "execution_count": null,
   "metadata": {},
   "outputs": [],
   "source": [
    "house['lot']"
   ]
  },
  {
   "cell_type": "code",
   "execution_count": null,
   "metadata": {
    "scrolled": true
   },
   "outputs": [],
   "source": [
    "house['houseyear']"
   ]
  },
  {
   "cell_type": "code",
   "execution_count": null,
   "metadata": {},
   "outputs": [],
   "source": [
    "# 確認空值, False\n",
    "house['houseyear'].isnull().any()"
   ]
  },
  {
   "cell_type": "code",
   "execution_count": null,
   "metadata": {},
   "outputs": [],
   "source": [
    "# houseyear數據整理\n",
    "len_2 = len(house['houseyear'])\n",
    "for i in range(len_2):\n",
    "    if house['houseyear'][i] == 'No Data':\n",
    "        house['houseyear'][i] == np.nan\n",
    "        print(i)"
   ]
  },
  {
   "cell_type": "code",
   "execution_count": null,
   "metadata": {},
   "outputs": [],
   "source": [
    "house['houseyear'][266]"
   ]
  },
  {
   "cell_type": "code",
   "execution_count": null,
   "metadata": {},
   "outputs": [],
   "source": [
    "med_houseyear = int(house['houseyear'].median())\n",
    "med_houseyear"
   ]
  },
  {
   "cell_type": "code",
   "execution_count": null,
   "metadata": {},
   "outputs": [],
   "source": [
    "house['houseyear'] = house['houseyear'].fillna(med_houseyear)"
   ]
  },
  {
   "cell_type": "code",
   "execution_count": null,
   "metadata": {},
   "outputs": [],
   "source": [
    "house['houseyear'].isnull().any()"
   ]
  },
  {
   "cell_type": "code",
   "execution_count": null,
   "metadata": {},
   "outputs": [],
   "source": [
    "# houseyear object轉換成int, 並將nan補0, coerce將為無法轉為int轉為nan\n",
    "house['houseyear'] = pd.to_numeric(house['houseyear']).astype('int64')"
   ]
  },
  {
   "cell_type": "code",
   "execution_count": null,
   "metadata": {
    "scrolled": true
   },
   "outputs": [],
   "source": [
    "house['houseyear']"
   ]
  },
  {
   "cell_type": "code",
   "execution_count": null,
   "metadata": {},
   "outputs": [],
   "source": [
    "mean_walkscore = int(house['walkscore'].mean())\n",
    "mean_walkscore"
   ]
  },
  {
   "cell_type": "code",
   "execution_count": null,
   "metadata": {},
   "outputs": [],
   "source": [
    "house['walkscore'] = house['walkscore'].fillna(mean_walkscore)"
   ]
  },
  {
   "cell_type": "code",
   "execution_count": null,
   "metadata": {},
   "outputs": [],
   "source": [
    "house['walkscore'].isnull().any()"
   ]
  },
  {
   "cell_type": "code",
   "execution_count": null,
   "metadata": {},
   "outputs": [],
   "source": [
    "house['walkscore'] = pd.to_numeric(house['walkscore']).astype('int64')"
   ]
  },
  {
   "cell_type": "code",
   "execution_count": null,
   "metadata": {},
   "outputs": [],
   "source": [
    "house['walkscore']"
   ]
  },
  {
   "cell_type": "code",
   "execution_count": null,
   "metadata": {},
   "outputs": [],
   "source": [
    "mean_transitscore = int(house['transitscore'].mean())\n",
    "mean_transitscore"
   ]
  },
  {
   "cell_type": "code",
   "execution_count": null,
   "metadata": {
    "scrolled": true
   },
   "outputs": [],
   "source": [
    "house['transitscore'] = house['transitscore'].fillna(0)"
   ]
  },
  {
   "cell_type": "code",
   "execution_count": null,
   "metadata": {},
   "outputs": [],
   "source": [
    "house['transitscore'].isnull().any()"
   ]
  },
  {
   "cell_type": "code",
   "execution_count": null,
   "metadata": {},
   "outputs": [],
   "source": [
    "house['transitscore'] = pd.to_numeric(house['transitscore']).astype('int64')"
   ]
  },
  {
   "cell_type": "code",
   "execution_count": null,
   "metadata": {
    "scrolled": true
   },
   "outputs": [],
   "source": [
    "house['transitscore']"
   ]
  },
  {
   "cell_type": "code",
   "execution_count": null,
   "metadata": {},
   "outputs": [],
   "source": [
    "mean_houseprice = int(house['houseprice'].mean())\n",
    "mean_houseprice"
   ]
  },
  {
   "cell_type": "code",
   "execution_count": null,
   "metadata": {
    "scrolled": true
   },
   "outputs": [],
   "source": [
    "mean_pt = int(house['pt'].mean())\n",
    "mean_pt"
   ]
  },
  {
   "cell_type": "code",
   "execution_count": null,
   "metadata": {},
   "outputs": [],
   "source": [
    "mean_ta = int(house['ta'].mean())\n",
    "mean_ta"
   ]
  },
  {
   "cell_type": "code",
   "execution_count": null,
   "metadata": {
    "scrolled": true
   },
   "outputs": [],
   "source": [
    "len_3 = len(house['pt'])\n",
    "for i in range(len_3):\n",
    "    if pd.isnull(house['pt'][i]) is True:\n",
    "        house['pt'][i] = mean_pt/mean_houseprice*house['houseprice'][i]"
   ]
  },
  {
   "cell_type": "code",
   "execution_count": null,
   "metadata": {},
   "outputs": [],
   "source": [
    "house['pt'].isnull().any()"
   ]
  },
  {
   "cell_type": "code",
   "execution_count": null,
   "metadata": {},
   "outputs": [],
   "source": [
    "house['pt'] = pd.to_numeric(house['pt']).astype('int64')"
   ]
  },
  {
   "cell_type": "code",
   "execution_count": null,
   "metadata": {},
   "outputs": [],
   "source": [
    "house['pt']"
   ]
  },
  {
   "cell_type": "code",
   "execution_count": null,
   "metadata": {},
   "outputs": [],
   "source": [
    "len_4 = len(house['ta'])\n",
    "for i in range(len_3):\n",
    "    if pd.isnull(house['ta'][i]) is True:\n",
    "        house['ta'][i] = mean_ta/mean_houseprice*house['houseprice'][i]"
   ]
  },
  {
   "cell_type": "code",
   "execution_count": null,
   "metadata": {},
   "outputs": [],
   "source": [
    "house['ta'].isnull().any()"
   ]
  },
  {
   "cell_type": "code",
   "execution_count": null,
   "metadata": {},
   "outputs": [],
   "source": [
    "house['ta'] = pd.to_numeric(house['ta']).astype('int64')"
   ]
  },
  {
   "cell_type": "code",
   "execution_count": null,
   "metadata": {},
   "outputs": [],
   "source": [
    "house['ta']"
   ]
  },
  {
   "cell_type": "markdown",
   "metadata": {},
   "source": [
    "# 資料合併"
   ]
  },
  {
   "cell_type": "code",
   "execution_count": null,
   "metadata": {},
   "outputs": [],
   "source": [
    "import pandas as pd\n",
    "import numpy as np"
   ]
  },
  {
   "cell_type": "code",
   "execution_count": null,
   "metadata": {},
   "outputs": [],
   "source": [
    "def read_inf(data):\n",
    "    df1 = pd.read_csv(data+'.csv')\n",
    "    df2 = pd.read_csv('zipcodeData.csv')    # 房屋特徵(中文)\n",
    "    df3 = pd.read_csv('zipcodeDataUs.csv')  # 房屋特徵(英文)\n",
    "    return (df1,df2,df3)"
   ]
  },
  {
   "cell_type": "code",
   "execution_count": null,
   "metadata": {},
   "outputs": [],
   "source": [
    "def add_columns(df1,df2,df3,counts):\n",
    "    # zipcode刪除? 順便將地址轉換成zipcode?\n",
    "    columns1=['zipcode', '當前人口', '男性人口', '女性人口', '性別比', '白人人口', '黑人人口', '西班牙裔人口', '亞洲人口', '夏威夷人口', '印度裔人口', '其他人口',  '白人比率', '黑人比率', '西班牙裔比率', '亞洲人比率', '夏威夷人比率', '印度裔人比率', '其他人比率', '年齡的中位數', '男性年齡中位數', '女性年齡中位數', '每戶人數', '平均房屋價值', '每戶收入']\n",
    "    columns2=['zipcode', 'population Density', 'housing Units', 'land Area', 'median Household Income', 'households With Kids',' built before 1970', ' built after 1970','Car', 'High School', \"Associate's degree\", \"Bachelor's degree\",\"Master's degree\", '<25k', '25k-60k', '60k-150k', '150k+','<25krate', '25k-60k rate', '60k-150k rate', '150k+ rate']\n",
    "    for i in range(len(columns1)):\n",
    "        df1.insert(17+i, column=columns1[i], value=[df2[columns1[i]][counts]]*len(df1['houseyear']))\n",
    "    df1 = df1.drop(\"zipcode\", axis = 1)\n",
    "    for i in range(len(columns2)):\n",
    "        df1.insert(17+len(columns1)-1+i, column=columns2[i], value=[df3[columns2[i]][counts]]*len(df1['houseyear']))\n",
    "    df1 = df1.drop(\"zipcode\", axis = 1)\n",
    "    return df1"
   ]
  },
  {
   "cell_type": "code",
   "execution_count": null,
   "metadata": {},
   "outputs": [],
   "source": [
    "def OutputCSV7(data,df1):         \n",
    "    Result = data+'_1.csv'\n",
    "    df_SAMPLE = pd.DataFrame.from_dict(df1)\n",
    "    df_SAMPLE.to_csv(Result, index=False)   \n",
    "    print(data,':Finish')"
   ]
  },
  {
   "cell_type": "markdown",
   "metadata": {},
   "source": [
    "#### 執行前更改zipcode"
   ]
  },
  {
   "cell_type": "code",
   "execution_count": null,
   "metadata": {},
   "outputs": [],
   "source": [
    "# 更改成自己的zipcode, 提醒這裡的順序需跟房屋特徵順序要一樣!!!!\n",
    "zipcodes = ['98006', '98007', '98024', '98115', '98092', '98198', '98072', '98010', '98199', '98146', '98112', '98065', '98107', '98188', '98148', '98121', '98051']\n",
    "\n",
    "counts = 0 \n",
    "for data in zipcodes:  \n",
    "    read_inf(data)\n",
    "    df1 = add_columns(read_inf(data)[0],read_inf(data)[1],read_inf(data)[2],counts)\n",
    "    counts +=1\n",
    "    OutputCSV7(data,df1)"
   ]
  },
  {
   "cell_type": "markdown",
   "metadata": {},
   "source": [
    "# 測試"
   ]
  },
  {
   "cell_type": "code",
   "execution_count": null,
   "metadata": {
    "scrolled": true
   },
   "outputs": [],
   "source": [
    "df['date'][0]"
   ]
  },
  {
   "cell_type": "code",
   "execution_count": null,
   "metadata": {},
   "outputs": [],
   "source": [
    "parse(df['date'][0]).year"
   ]
  },
  {
   "cell_type": "code",
   "execution_count": null,
   "metadata": {},
   "outputs": [],
   "source": [
    "parse(df['date'][0]).month"
   ]
  },
  {
   "cell_type": "code",
   "execution_count": null,
   "metadata": {},
   "outputs": [],
   "source": [
    "parse(df['date'][0]).day"
   ]
  },
  {
   "cell_type": "code",
   "execution_count": null,
   "metadata": {},
   "outputs": [],
   "source": []
  }
 ],
 "metadata": {
  "kernelspec": {
   "display_name": "Python 3",
   "language": "python",
   "name": "python3"
  },
  "language_info": {
   "codemirror_mode": {
    "name": "ipython",
    "version": 3
   },
   "file_extension": ".py",
   "mimetype": "text/x-python",
   "name": "python",
   "nbconvert_exporter": "python",
   "pygments_lexer": "ipython3",
   "version": "3.8.5"
  }
 },
 "nbformat": 4,
 "nbformat_minor": 5
}
